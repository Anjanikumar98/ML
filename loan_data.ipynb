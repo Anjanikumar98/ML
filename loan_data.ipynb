{
  "nbformat": 4,
  "nbformat_minor": 0,
  "metadata": {
    "colab": {
      "provenance": [],
      "mount_file_id": "1EETUnb2GP6jWN_QtqGl1CQgGLoHDh9-L",
      "authorship_tag": "ABX9TyNwwZTQcpDau/Wf8/adDnDU",
      "include_colab_link": true
    },
    "kernelspec": {
      "name": "python3",
      "display_name": "Python 3"
    },
    "language_info": {
      "name": "python"
    }
  },
  "cells": [
    {
      "cell_type": "markdown",
      "metadata": {
        "id": "view-in-github",
        "colab_type": "text"
      },
      "source": [
        "<a href=\"https://colab.research.google.com/github/Anjanikumar98/ML/blob/main/loan_data.ipynb\" target=\"_parent\"><img src=\"https://colab.research.google.com/assets/colab-badge.svg\" alt=\"Open In Colab\"/></a>"
      ]
    },
    {
      "cell_type": "markdown",
      "source": [
        "Importing libraries"
      ],
      "metadata": {
        "id": "vJ5g3IG7IrOT"
      }
    },
    {
      "cell_type": "code",
      "execution_count": null,
      "metadata": {
        "id": "9ptjUx-2FdGY"
      },
      "outputs": [],
      "source": [
        "import pandas as pd\n",
        "from sklearn.model_selection import train_test_split\n",
        "from sklearn.preprocessing import StandardScaler, LabelEncoder\n",
        "from sklearn.impute import SimpleImputer\n",
        "from sklearn.linear_model import LogisticRegression\n",
        "from sklearn.tree import DecisionTreeClassifier\n",
        "from sklearn.ensemble import RandomForestClassifier\n",
        "from sklearn.metrics import accuracy_score"
      ]
    },
    {
      "cell_type": "markdown",
      "source": [
        "Load Dataset"
      ],
      "metadata": {
        "id": "Qgp8wMszK2gU"
      }
    },
    {
      "cell_type": "code",
      "source": [
        "\n",
        "# Load the dataset\n",
        "file_path = '/loan_data.csv'  # Update with the actual path to your file\n",
        "data = pd.read_csv(file_path)"
      ],
      "metadata": {
        "id": "q00Ekb6jGlBp"
      },
      "execution_count": 6,
      "outputs": []
    },
    {
      "cell_type": "markdown",
      "source": [],
      "metadata": {
        "id": "kCqZmiotK38v"
      }
    },
    {
      "cell_type": "code",
      "source": [
        "print(\"First few rows of the dataset:\")\n",
        "print(data.head(), \"\\n\")"
      ],
      "metadata": {
        "colab": {
          "base_uri": "https://localhost:8080/"
        },
        "id": "aC5NJwCeHtGJ",
        "outputId": "73291da9-6a58-48eb-b2bf-f10d82373309"
      },
      "execution_count": 7,
      "outputs": [
        {
          "output_type": "stream",
          "name": "stdout",
          "text": [
            "First few rows of the dataset:\n",
            "    Loan_ID Gender Married Dependents     Education Self_Employed  \\\n",
            "0  LP001003   Male     Yes          1      Graduate            No   \n",
            "1  LP001005   Male     Yes          0      Graduate           Yes   \n",
            "2  LP001006   Male     Yes          0  Not Graduate            No   \n",
            "3  LP001008   Male      No          0      Graduate            No   \n",
            "4  LP001013   Male     Yes          0  Not Graduate            No   \n",
            "\n",
            "   ApplicantIncome  CoapplicantIncome  LoanAmount  Loan_Amount_Term  \\\n",
            "0             4583             1508.0         128             360.0   \n",
            "1             3000                0.0          66             360.0   \n",
            "2             2583             2358.0         120             360.0   \n",
            "3             6000                0.0         141             360.0   \n",
            "4             2333             1516.0          95             360.0   \n",
            "\n",
            "   Credit_History Property_Area Loan_Status  \n",
            "0             1.0         Rural           N  \n",
            "1             1.0         Urban           Y  \n",
            "2             1.0         Urban           Y  \n",
            "3             1.0         Urban           Y  \n",
            "4             1.0         Urban           Y   \n",
            "\n"
          ]
        }
      ]
    },
    {
      "cell_type": "code",
      "source": [
        "print(\"Dataset information:\")\n",
        "print(data.info(), \"\\n\")"
      ],
      "metadata": {
        "colab": {
          "base_uri": "https://localhost:8080/"
        },
        "id": "9YiWzUYHHyak",
        "outputId": "e23d7efb-e9c9-4ec7-beeb-001acfeafb17"
      },
      "execution_count": 8,
      "outputs": [
        {
          "output_type": "stream",
          "name": "stdout",
          "text": [
            "Dataset information:\n",
            "<class 'pandas.core.frame.DataFrame'>\n",
            "RangeIndex: 381 entries, 0 to 380\n",
            "Data columns (total 13 columns):\n",
            " #   Column             Non-Null Count  Dtype  \n",
            "---  ------             --------------  -----  \n",
            " 0   Loan_ID            381 non-null    object \n",
            " 1   Gender             376 non-null    object \n",
            " 2   Married            381 non-null    object \n",
            " 3   Dependents         373 non-null    object \n",
            " 4   Education          381 non-null    object \n",
            " 5   Self_Employed      360 non-null    object \n",
            " 6   ApplicantIncome    381 non-null    int64  \n",
            " 7   CoapplicantIncome  381 non-null    float64\n",
            " 8   LoanAmount         381 non-null    int64  \n",
            " 9   Loan_Amount_Term   370 non-null    float64\n",
            " 10  Credit_History     351 non-null    float64\n",
            " 11  Property_Area      381 non-null    object \n",
            " 12  Loan_Status        381 non-null    object \n",
            "dtypes: float64(3), int64(2), object(8)\n",
            "memory usage: 38.8+ KB\n",
            "None \n",
            "\n"
          ]
        }
      ]
    },
    {
      "cell_type": "code",
      "source": [
        "print(\"Summary statistics:\")\n",
        "print(data.describe(), \"\\n\")"
      ],
      "metadata": {
        "colab": {
          "base_uri": "https://localhost:8080/"
        },
        "id": "w_1lVoh9IdI_",
        "outputId": "78c89785-f636-4d81-b88b-c4b849c354b0"
      },
      "execution_count": 9,
      "outputs": [
        {
          "output_type": "stream",
          "name": "stdout",
          "text": [
            "Summary statistics:\n",
            "       ApplicantIncome  CoapplicantIncome  LoanAmount  Loan_Amount_Term  \\\n",
            "count       381.000000         381.000000  381.000000        370.000000   \n",
            "mean       3579.845144        1277.275381  104.986877        340.864865   \n",
            "std        1419.813818        2340.818114   28.358464         68.549257   \n",
            "min         150.000000           0.000000    9.000000         12.000000   \n",
            "25%        2600.000000           0.000000   90.000000        360.000000   \n",
            "50%        3333.000000         983.000000  110.000000        360.000000   \n",
            "75%        4288.000000        2016.000000  127.000000        360.000000   \n",
            "max        9703.000000       33837.000000  150.000000        480.000000   \n",
            "\n",
            "       Credit_History  \n",
            "count      351.000000  \n",
            "mean         0.837607  \n",
            "std          0.369338  \n",
            "min          0.000000  \n",
            "25%          1.000000  \n",
            "50%          1.000000  \n",
            "75%          1.000000  \n",
            "max          1.000000   \n",
            "\n"
          ]
        }
      ]
    },
    {
      "cell_type": "code",
      "source": [
        "print(\"Checking for missing values:\")\n",
        "print(data.isnull().sum(), \"\\n\")"
      ],
      "metadata": {
        "colab": {
          "base_uri": "https://localhost:8080/"
        },
        "id": "jjaHj_BlIgdY",
        "outputId": "ab34a953-0992-4d9f-b84d-62bde370b32c"
      },
      "execution_count": 10,
      "outputs": [
        {
          "output_type": "stream",
          "name": "stdout",
          "text": [
            "Checking for missing values:\n",
            "Loan_ID               0\n",
            "Gender                5\n",
            "Married               0\n",
            "Dependents            8\n",
            "Education             0\n",
            "Self_Employed        21\n",
            "ApplicantIncome       0\n",
            "CoapplicantIncome     0\n",
            "LoanAmount            0\n",
            "Loan_Amount_Term     11\n",
            "Credit_History       30\n",
            "Property_Area         0\n",
            "Loan_Status           0\n",
            "dtype: int64 \n",
            "\n"
          ]
        }
      ]
    },
    {
      "cell_type": "code",
      "source": [
        "# Define variables\n",
        "TARGET = 'Loan_Status'\n",
        "FEATURES = ['Gender', 'Married', 'Dependents', 'Education', 'Self_Employed',\n",
        "            'ApplicantIncome', 'CoapplicantIncome', 'LoanAmount',\n",
        "            'Loan_Amount_Term', 'Credit_History', 'Property_Area']\n",
        "NUM_FEATURES = ['ApplicantIncome', 'LoanAmount', 'Loan_Amount_Term']\n",
        "CAT_FEATURES = ['Gender', 'Married', 'Dependents', 'Education', 'Self_Employed',\n",
        "                'Credit_History', 'Property_Area']\n",
        "FEATURES_TO_ENCODE = ['Gender', 'Married', 'Dependents', 'Education',\n",
        "                      'Self_Employed', 'Credit_History', 'Property_Area']"
      ],
      "metadata": {
        "id": "hQMIbzOKIkhZ"
      },
      "execution_count": 11,
      "outputs": []
    },
    {
      "cell_type": "markdown",
      "source": [],
      "metadata": {
        "id": "wx24atbTIp_p"
      }
    },
    {
      "cell_type": "code",
      "source": [
        "# Handling missing values\n",
        "# Categorical features - fill with mode\n",
        "categorical_imputer = SimpleImputer(strategy='most_frequent')\n",
        "data[CAT_FEATURES] = categorical_imputer.fit_transform(data[CAT_FEATURES])"
      ],
      "metadata": {
        "id": "grp4cDc6M-v5"
      },
      "execution_count": 12,
      "outputs": []
    },
    {
      "cell_type": "code",
      "source": [
        "# Numerical features - fill with median\n",
        "numerical_imputer = SimpleImputer(strategy='median')\n",
        "data[NUM_FEATURES] = numerical_imputer.fit_transform(data[NUM_FEATURES])"
      ],
      "metadata": {
        "id": "030Nu0pPM_hT"
      },
      "execution_count": 13,
      "outputs": []
    },
    {
      "cell_type": "code",
      "source": [
        "# Encoding categorical features\n",
        "label_encoders = {}\n",
        "for col in FEATURES_TO_ENCODE:\n",
        "    le = LabelEncoder()\n",
        "    data[col] = le.fit_transform(data[col])\n",
        "    label_encoders[col] = le"
      ],
      "metadata": {
        "id": "eYbyFs5cNDPP"
      },
      "execution_count": 14,
      "outputs": []
    },
    {
      "cell_type": "code",
      "source": [
        "# Encode the target variable\n",
        "target_le = LabelEncoder()\n",
        "data[TARGET] = target_le.fit_transform(data[TARGET])"
      ],
      "metadata": {
        "id": "HdpjE606NG2x"
      },
      "execution_count": 15,
      "outputs": []
    },
    {
      "cell_type": "code",
      "source": [
        "# Split the data into training and testing sets\n",
        "X = data[FEATURES]\n",
        "y = data[TARGET]"
      ],
      "metadata": {
        "id": "wKjH3-ZwNJxn"
      },
      "execution_count": 16,
      "outputs": []
    },
    {
      "cell_type": "markdown",
      "source": [
        "Train-Test Split"
      ],
      "metadata": {
        "id": "wXEDzq7vNOJV"
      }
    },
    {
      "cell_type": "code",
      "source": [
        "X_train, X_test, y_train, y_test = train_test_split(X, y, test_size=0.3, random_state=42, stratify=y)"
      ],
      "metadata": {
        "id": "XlZD5QECNNGU"
      },
      "execution_count": 17,
      "outputs": []
    },
    {
      "cell_type": "markdown",
      "source": [
        "Feature Scaling"
      ],
      "metadata": {
        "id": "BbHmqcwBNXAo"
      }
    },
    {
      "cell_type": "code",
      "source": [
        "# Feature scaling (important for some models)\n",
        "scaler = StandardScaler()\n",
        "X_train[NUM_FEATURES] = scaler.fit_transform(X_train[NUM_FEATURES])\n",
        "X_test[NUM_FEATURES] = scaler.transform(X_test[NUM_FEATURES])"
      ],
      "metadata": {
        "id": "IW5lCxTXNUYg"
      },
      "execution_count": 18,
      "outputs": []
    },
    {
      "cell_type": "markdown",
      "source": [
        "Model Intilaization"
      ],
      "metadata": {
        "id": "n4V2GtUSNeNT"
      }
    },
    {
      "cell_type": "code",
      "source": [
        "# Initialize models\n",
        "models = {\n",
        "    \"Logistic Regression\": LogisticRegression(random_state=42),\n",
        "    \"Decision Tree\": DecisionTreeClassifier(random_state=42),\n",
        "    \"Random Forest\": RandomForestClassifier(random_state=42)\n",
        "}"
      ],
      "metadata": {
        "id": "I8iNAht2Nagx"
      },
      "execution_count": 19,
      "outputs": []
    },
    {
      "cell_type": "code",
      "source": [
        "# Train and evaluate each model\n",
        "results = {}\n",
        "for model_name, model in models.items():\n",
        "    model.fit(X_train, y_train)\n",
        "    y_pred = model.predict(X_test)\n",
        "    accuracy = accuracy_score(y_test, y_pred)\n",
        "    results[model_name] = accuracy"
      ],
      "metadata": {
        "colab": {
          "base_uri": "https://localhost:8080/"
        },
        "id": "2Ico1O34NiQb",
        "outputId": "a44d8f41-a1b0-48f8-a010-843ccb5cd67e"
      },
      "execution_count": 20,
      "outputs": [
        {
          "output_type": "stream",
          "name": "stderr",
          "text": [
            "/usr/local/lib/python3.10/dist-packages/sklearn/linear_model/_logistic.py:460: ConvergenceWarning: lbfgs failed to converge (status=1):\n",
            "STOP: TOTAL NO. of ITERATIONS REACHED LIMIT.\n",
            "\n",
            "Increase the number of iterations (max_iter) or scale the data as shown in:\n",
            "    https://scikit-learn.org/stable/modules/preprocessing.html\n",
            "Please also refer to the documentation for alternative solver options:\n",
            "    https://scikit-learn.org/stable/modules/linear_model.html#logistic-regression\n",
            "  n_iter_i = _check_optimize_result(\n"
          ]
        }
      ]
    },
    {
      "cell_type": "markdown",
      "source": [
        "Final Scores"
      ],
      "metadata": {
        "id": "a1wV50W7Nrhh"
      }
    },
    {
      "cell_type": "code",
      "source": [
        "# Display results\n",
        "print(\"Model Performance:\")\n",
        "for model_name, accuracy in results.items():\n",
        "    print(f\"{model_name}: {accuracy:.2f}\")"
      ],
      "metadata": {
        "colab": {
          "base_uri": "https://localhost:8080/"
        },
        "id": "AoyCCJGLNk5z",
        "outputId": "79aec9c1-09eb-401e-f915-9de748982c8d"
      },
      "execution_count": 21,
      "outputs": [
        {
          "output_type": "stream",
          "name": "stdout",
          "text": [
            "Model Performance:\n",
            "Logistic Regression: 0.84\n",
            "Decision Tree: 0.79\n",
            "Random Forest: 0.85\n"
          ]
        }
      ]
    },
    {
      "cell_type": "code",
      "source": [],
      "metadata": {
        "id": "WaG7WAqzNuDg"
      },
      "execution_count": null,
      "outputs": []
    }
  ]
}